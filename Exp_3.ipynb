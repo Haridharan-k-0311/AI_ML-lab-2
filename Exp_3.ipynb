{
 "cells": [
  {
   "cell_type": "raw",
   "id": "dbb2a0b0-fe97-4f81-947d-7ff1893f1ff6",
   "metadata": {},
   "source": [
    "im1=cv2.imread(\"C:/Users/SN56.CSE2-25/Downloads/galaxy.jpg\")\n",
    "shp=im1.shape\n",
    "print (shp)\n",
    "height,width=im1.shape[:2]\n",
    "print(height)\n",
    "print(width)\n",
    "cent=(height/2,width/2)\n",
    "cent\n",
    "rotation_matrix=cv2.getRotationMatrix2D(center=cent,angle=25,scale=0.3)\n",
    "print(rotation_matrix)\n",
    "rotated_im=cv2.warpAffine(src=im1,M=rotation_matrix,dsize=(width,height))\n",
    "cv2.imshow('Orginal image',im1)\n",
    "cv2.waitKey(0)\n",
    "cv2.imshow('Rotated image',rotated_im)\n",
    "cv2.waitKey(0)\n",
    "cv2.destroyAllWindows()\n",
    "\n",
    "TRANSLATION MATRIX:\n",
    "tx,ty=width/2,height/2\n",
    "tx\n",
    "ty\n",
    "Translation_matrix=np.array([[2,0,tx],[1,5,ty]])\n",
    "Translation_matrix\n",
    "Trans_im=cv2.warpAffine(src=im1,M=rotation_matrix,dsize=(width,height))\n",
    "cv2.imshow('Orginal image',im1)\n",
    "cv2.waitKey(0)\n",
    "cv2.imshow('Transimage',Trans_im)\n",
    "cv2.waitKey(0)\n",
    "cv2.destroyAllWindows()\n"
   ]
  },
  {
   "cell_type": "code",
   "execution_count": null,
   "id": "1591b77d-08de-4c07-90a9-2e75ab027542",
   "metadata": {},
   "outputs": [],
   "source": [
    "pip install opencv-python"
   ]
  },
  {
   "cell_type": "code",
   "execution_count": null,
   "id": "28f0d1be-d0e9-4c39-8022-d2584ec6473c",
   "metadata": {},
   "outputs": [],
   "source": [
    "pip install numpy"
   ]
  },
  {
   "cell_type": "code",
   "execution_count": 14,
   "id": "6d8ceca2-07d8-443e-89d0-fd7ce80ff230",
   "metadata": {},
   "outputs": [],
   "source": [
    "import cv2\n",
    "import numpy"
   ]
  },
  {
   "cell_type": "code",
   "execution_count": 5,
   "id": "c2e214b9-bf11-4ebc-abd4-5bd7da400753",
   "metadata": {},
   "outputs": [],
   "source": [
    "im1=cv2.imread(\"Sample.jpeg\")"
   ]
  },
  {
   "cell_type": "code",
   "execution_count": 7,
   "id": "1927b45d-6531-4c6e-9eec-c03b2be3d541",
   "metadata": {},
   "outputs": [
    {
     "name": "stdout",
     "output_type": "stream",
     "text": [
      "(426, 640, 3)\n"
     ]
    }
   ],
   "source": [
    "shp=im1.shape\n",
    "print (shp)"
   ]
  },
  {
   "cell_type": "code",
   "execution_count": 8,
   "id": "818addf7-7008-443c-8ab1-05153478f831",
   "metadata": {},
   "outputs": [
    {
     "name": "stdout",
     "output_type": "stream",
     "text": [
      "426\n",
      "640\n"
     ]
    }
   ],
   "source": [
    "height,width=im1.shape[:2]\n",
    "print(height)\n",
    "print(width)"
   ]
  },
  {
   "cell_type": "code",
   "execution_count": 9,
   "id": "eab547cc-a923-4555-a2a3-a728ee8ed328",
   "metadata": {},
   "outputs": [
    {
     "data": {
      "text/plain": [
       "(213.0, 320.0)"
      ]
     },
     "execution_count": 9,
     "metadata": {},
     "output_type": "execute_result"
    }
   ],
   "source": [
    "cent=(height/2,width/2)\n",
    "cent"
   ]
  },
  {
   "cell_type": "code",
   "execution_count": 10,
   "id": "5bd6dc38-782e-43c6-996a-05b2462e2293",
   "metadata": {},
   "outputs": [
    {
     "name": "stdout",
     "output_type": "stream",
     "text": [
      "[[ 2.71892336e-01  1.26785479e-01  1.14515579e+02]\n",
      " [-1.26785479e-01  2.71892336e-01  2.59999759e+02]]\n"
     ]
    }
   ],
   "source": [
    "rotation_matrix=cv2.getRotationMatrix2D(center=cent,angle=25,scale=0.3)\n",
    "print(rotation_matrix)\n",
    "rotated_im=cv2.warpAffine(src=im1,M=rotation_matrix,dsize=(width,height))"
   ]
  },
  {
   "cell_type": "code",
   "execution_count": 11,
   "id": "696b9642-f04e-498d-828f-e8c4a49651e4",
   "metadata": {},
   "outputs": [],
   "source": [
    "cv2.imshow('Orginal image',im1)\n",
    "cv2.imshow('Rotated image',rotated_im)\n",
    "cv2.waitKey(0)\n",
    "cv2.destroyAllWindows()"
   ]
  },
  {
   "cell_type": "markdown",
   "id": "b18c7d4a-c03b-466c-a231-f81875eb1a3b",
   "metadata": {},
   "source": [
    "# TRANSLATION MATRIX:"
   ]
  },
  {
   "cell_type": "code",
   "execution_count": 15,
   "id": "e776a969-d777-45e3-854b-f804327f7bf9",
   "metadata": {},
   "outputs": [],
   "source": [
    "tx,ty=width/2,height/2\n",
    "tx\n",
    "ty\n",
    "Translation_matrix=numpy.array([[2,0,tx],[1,5,ty]])\n",
    "Translation_matrix\n",
    "Trans_im=cv2.warpAffine(src=im1,M=rotation_matrix,dsize=(width,height))"
   ]
  },
  {
   "cell_type": "code",
   "execution_count": null,
   "id": "dec6aaa5-3cdb-42c0-89d2-a22f9679fe62",
   "metadata": {},
   "outputs": [],
   "source": [
    "cv2.imshow('Orginal image',im1)\n",
    "cv2.imshow('Transimage',Trans_im)\n",
    "cv2.waitKey(0)\n",
    "cv2.destroyAllWindows()"
   ]
  },
  {
   "cell_type": "code",
   "execution_count": null,
   "id": "aab6717c-002a-419e-9923-6fa99321087c",
   "metadata": {},
   "outputs": [],
   "source": []
  }
 ],
 "metadata": {
  "kernelspec": {
   "display_name": "Python 3 (ipykernel)",
   "language": "python",
   "name": "python3"
  },
  "language_info": {
   "codemirror_mode": {
    "name": "ipython",
    "version": 3
   },
   "file_extension": ".py",
   "mimetype": "text/x-python",
   "name": "python",
   "nbconvert_exporter": "python",
   "pygments_lexer": "ipython3",
   "version": "3.11.7"
  }
 },
 "nbformat": 4,
 "nbformat_minor": 5
}
