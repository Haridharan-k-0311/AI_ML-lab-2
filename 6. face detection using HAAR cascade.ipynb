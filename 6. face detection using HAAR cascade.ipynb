{
 "cells": [
  {
   "cell_type": "markdown",
   "id": "9c8fe1fc",
   "metadata": {},
   "source": [
    "# Face recognition\n"
   ]
  },
  {
   "cell_type": "code",
   "execution_count": 1,
   "id": "2d82fcf9",
   "metadata": {},
   "outputs": [],
   "source": [
    "import cv2\n",
    "import numpy as np"
   ]
  },
  {
   "cell_type": "code",
   "execution_count": 2,
   "id": "06f652ee",
   "metadata": {},
   "outputs": [],
   "source": [
    "\n",
    "fd = cv2.CascadeClassifier(cv2.data.haarcascades + 'haarcascade_frontalface_default.xml')\n",
    "ed= cv2.CascadeClassifier(cv2.data.haarcascades + 'haarcascade_eye.xml')"
   ]
  },
  {
   "cell_type": "code",
   "execution_count": 3,
   "id": "4a0fb64a",
   "metadata": {},
   "outputs": [],
   "source": [
    "#cap = cv2.VideoCapture(0)\n",
    "img = cv2.imread('img_wa1.jpg')\n",
    "gray = cv2.cvtColor(img, cv2.COLOR_BGR2GRAY)\n",
    "\n",
    "faces = fd.detectMultiScale(gray,scaleFactor=1.1,minNeighbors=1,minSize=(30, 10))\n",
    "for (x,y,w,h) in faces:\n",
    "    cv2.rectangle(img,(x,y),(x+w,y+h),(0,255,0),2)\n",
    "eyes = ed.detectMultiScale(gray,) \n",
    "for (ex,ey,ew,eh) in eyes:\n",
    "            cv2.rectangle(img,(ex,ey),(ex+ew,ey+eh),(0,127,255),2)\n",
    "cv2.imshow('img',img)\n",
    "cv2.waitKey(0)\n",
    "cv2.destroyAllWindows()"
   ]
  },
  {
   "cell_type": "code",
   "execution_count": 6,
   "id": "07247b1f",
   "metadata": {},
   "outputs": [],
   "source": [
    "cap = cv2.VideoCapture(0)\n",
    "while(1):\n",
    "    ret, fra = cap.read()\n",
    "    gray2= cv2.cvtColor(fra,cv2.COLOR_BGR2GRAY)\n",
    "    faces = fd.detectMultiScale(gray,scaleFactor=1.1,minNeighbors=1,minSize=(30, 10))\n",
    "    for (x,y,w,h) in faces:\n",
    "            cv2.rectangle(fra,(x,y),(x+w,y+h),(0,255,0),2)\n",
    "            eyes = ed.detectMultiScale(gray,) \n",
    "    for (ex,ey,ew,eh) in eyes:\n",
    "            cv2.rectangle(fra,(ex,ey),(ex+ew,ey+eh),(0,127,255),2)\n",
    "    cv2.imshow('fra',fra)\n",
    "    k = cv2.waitKey(30) & 0xff\n",
    "    if k == 27:\n",
    "        break\n",
    "    \n",
    "cap.release()\n",
    "cv2.destroyAllWindows()"
   ]
  },
  {
   "cell_type": "code",
   "execution_count": null,
   "id": "a959c65f",
   "metadata": {},
   "outputs": [],
   "source": []
  }
 ],
 "metadata": {
  "kernelspec": {
   "display_name": "Python 3 (ipykernel)",
   "language": "python",
   "name": "python3"
  },
  "language_info": {
   "codemirror_mode": {
    "name": "ipython",
    "version": 3
   },
   "file_extension": ".py",
   "mimetype": "text/x-python",
   "name": "python",
   "nbconvert_exporter": "python",
   "pygments_lexer": "ipython3",
   "version": "3.9.7"
  }
 },
 "nbformat": 4,
 "nbformat_minor": 5
}
